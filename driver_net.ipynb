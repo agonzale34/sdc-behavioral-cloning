{
 "cells": [
  {
   "cell_type": "markdown",
   "metadata": {
    "collapsed": true
   },
   "source": [
    "## DriverNet: autonomous car"
   ]
  },
  {
   "cell_type": "markdown",
   "metadata": {},
   "source": [
    "Import all the libraries we need"
   ]
  },
  {
   "cell_type": "code",
   "execution_count": 1,
   "metadata": {},
   "outputs": [
    {
     "name": "stderr",
     "output_type": "stream",
     "text": [
      "Using TensorFlow backend.\n"
     ]
    }
   ],
   "source": [
    "import csv\n",
    "import numpy as np\n",
    "import scipy.ndimage as ndimage\n",
    "import matplotlib.pyplot as plt\n",
    "\n",
    "from keras.models import Sequential\n",
    "from keras.layers import Flatten, Dense, Lambda"
   ]
  },
  {
   "cell_type": "markdown",
   "metadata": {},
   "source": [
    "### Loading the dataset"
   ]
  },
  {
   "cell_type": "code",
   "execution_count": 2,
   "metadata": {},
   "outputs": [
    {
     "name": "stdout",
     "output_type": "stream",
     "text": [
      "Dataset loaded successfuly with shape: (160, 320, 3)\n",
      "Number of features: 302\n"
     ]
    }
   ],
   "source": [
    "lines = []\n",
    "\n",
    "data_folder = './training-data/'\n",
    "\n",
    "# read all the lines in the csv file\n",
    "with open(data_folder + 'driving_log.csv') as csvfile:\n",
    "    reader = csv.reader(csvfile)\n",
    "    for line in reader:\n",
    "        lines.append(line)\n",
    "        \n",
    "        \n",
    "# load the images\n",
    "images = []\n",
    "measus = []\n",
    "\n",
    "for line in lines:\n",
    "    source_path = line[0]\n",
    "    filename = source_path.split('/')[-1]\n",
    "    img_path = data_folder + 'IMG/' + filename\n",
    "    image = plt.imread(img_path)\n",
    "    images.append(image)\n",
    "    measu = float(line[3])\n",
    "    measus.append(measu)\n",
    "    \n",
    "# craeating the dataset for trainig the model\n",
    "X_train = np.array(images)\n",
    "y_train = np.array(measus)\n",
    "    \n",
    "print('Dataset loaded successfuly with shape:', images[0].shape)   \n",
    "print('Number of features:', len(X_train))"
   ]
  },
  {
   "cell_type": "markdown",
   "metadata": {},
   "source": [
    "### DriverNet model"
   ]
  },
  {
   "cell_type": "code",
   "execution_count": 3,
   "metadata": {},
   "outputs": [],
   "source": [
    "model = Sequential()\n",
    "# Normalize the images\n",
    "model.add(Lambda(lambda x: (x / 255.0) - 0.5, input_shape=(160,320,3)))\n",
    "model.add(Flatten(input_shape=(160,320,3)))\n",
    "model.add(Dense(1))"
   ]
  },
  {
   "cell_type": "markdown",
   "metadata": {},
   "source": [
    "### Training DriverNet"
   ]
  },
  {
   "cell_type": "code",
   "execution_count": 4,
   "metadata": {},
   "outputs": [
    {
     "name": "stdout",
     "output_type": "stream",
     "text": [
      "Train on 241 samples, validate on 61 samples\n",
      "Epoch 1/7\n",
      "241/241 [==============================] - 1s 5ms/step - loss: 11.7063 - val_loss: 0.5223\n",
      "Epoch 2/7\n",
      "241/241 [==============================] - 0s 1ms/step - loss: 6.7582 - val_loss: 0.3549\n",
      "Epoch 3/7\n",
      "241/241 [==============================] - 0s 1ms/step - loss: 3.9283 - val_loss: 0.2810\n",
      "Epoch 4/7\n",
      "241/241 [==============================] - 0s 1ms/step - loss: 2.3281 - val_loss: 0.4326\n",
      "Epoch 5/7\n",
      "241/241 [==============================] - 0s 1ms/step - loss: 1.3347 - val_loss: 1.4260\n",
      "Epoch 6/7\n",
      "241/241 [==============================] - 0s 1ms/step - loss: 1.2528 - val_loss: 1.1359\n",
      "Epoch 7/7\n",
      "241/241 [==============================] - 0s 1ms/step - loss: 0.8000 - val_loss: 0.1273\n"
     ]
    }
   ],
   "source": [
    "model.compile(loss='mse', optimizer='adam')\n",
    "model.fit(X_train, y_train, validation_split=0.2, shuffle=True, epochs=7)\n",
    "\n",
    "# Save the model\n",
    "model.save('model.h5')"
   ]
  },
  {
   "cell_type": "code",
   "execution_count": null,
   "metadata": {},
   "outputs": [],
   "source": []
  }
 ],
 "metadata": {
  "kernelspec": {
   "display_name": "Python 3",
   "language": "python",
   "name": "python3"
  },
  "language_info": {
   "codemirror_mode": {
    "name": "ipython",
    "version": 3
   },
   "file_extension": ".py",
   "mimetype": "text/x-python",
   "name": "python",
   "nbconvert_exporter": "python",
   "pygments_lexer": "ipython3",
   "version": "3.5.2"
  },
  "widgets": {
   "state": {},
   "version": "1.1.2"
  }
 },
 "nbformat": 4,
 "nbformat_minor": 1
}
